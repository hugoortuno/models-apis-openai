{
 "cells": [
  {
   "cell_type": "code",
   "execution_count": 6,
   "metadata": {},
   "outputs": [
    {
     "name": "stdout",
     "output_type": "stream",
     "text": [
      "Requirement already satisfied: openai in d:\\documents\\bootcamp\\.conda\\lib\\site-packages (0.28.0)\n",
      "Collecting openai\n",
      "  Using cached openai-1.51.2-py3-none-any.whl.metadata (24 kB)\n",
      "Requirement already satisfied: anyio<5,>=3.5.0 in d:\\documents\\bootcamp\\.conda\\lib\\site-packages (from openai) (4.6.2)\n",
      "Requirement already satisfied: distro<2,>=1.7.0 in d:\\documents\\bootcamp\\.conda\\lib\\site-packages (from openai) (1.9.0)\n",
      "Requirement already satisfied: httpx<1,>=0.23.0 in d:\\documents\\bootcamp\\.conda\\lib\\site-packages (from openai) (0.27.2)\n",
      "Requirement already satisfied: jiter<1,>=0.4.0 in d:\\documents\\bootcamp\\.conda\\lib\\site-packages (from openai) (0.6.1)\n",
      "Requirement already satisfied: pydantic<3,>=1.9.0 in d:\\documents\\bootcamp\\.conda\\lib\\site-packages (from openai) (2.9.2)\n",
      "Requirement already satisfied: sniffio in d:\\documents\\bootcamp\\.conda\\lib\\site-packages (from openai) (1.3.1)\n",
      "Requirement already satisfied: tqdm>4 in d:\\documents\\bootcamp\\.conda\\lib\\site-packages (from openai) (4.66.5)\n",
      "Requirement already satisfied: typing-extensions<5,>=4.11 in d:\\documents\\bootcamp\\.conda\\lib\\site-packages (from openai) (4.12.2)\n",
      "Requirement already satisfied: idna>=2.8 in d:\\documents\\bootcamp\\.conda\\lib\\site-packages (from anyio<5,>=3.5.0->openai) (3.8)\n",
      "Requirement already satisfied: certifi in d:\\documents\\bootcamp\\.conda\\lib\\site-packages (from httpx<1,>=0.23.0->openai) (2024.8.30)\n",
      "Requirement already satisfied: httpcore==1.* in d:\\documents\\bootcamp\\.conda\\lib\\site-packages (from httpx<1,>=0.23.0->openai) (1.0.6)\n",
      "Requirement already satisfied: h11<0.15,>=0.13 in d:\\documents\\bootcamp\\.conda\\lib\\site-packages (from httpcore==1.*->httpx<1,>=0.23.0->openai) (0.14.0)\n",
      "Requirement already satisfied: annotated-types>=0.6.0 in d:\\documents\\bootcamp\\.conda\\lib\\site-packages (from pydantic<3,>=1.9.0->openai) (0.7.0)\n",
      "Requirement already satisfied: pydantic-core==2.23.4 in d:\\documents\\bootcamp\\.conda\\lib\\site-packages (from pydantic<3,>=1.9.0->openai) (2.23.4)\n",
      "Requirement already satisfied: colorama in d:\\documents\\bootcamp\\.conda\\lib\\site-packages (from tqdm>4->openai) (0.4.6)\n",
      "Using cached openai-1.51.2-py3-none-any.whl (383 kB)\n",
      "Installing collected packages: openai\n",
      "  Attempting uninstall: openai\n",
      "    Found existing installation: openai 0.28.0\n",
      "    Uninstalling openai-0.28.0:\n",
      "      Successfully uninstalled openai-0.28.0\n",
      "Successfully installed openai-1.51.2\n",
      "Note: you may need to restart the kernel to use updated packages.\n"
     ]
    }
   ],
   "source": [
    "pip install -U openai\n"
   ]
  },
  {
   "cell_type": "code",
   "execution_count": 13,
   "metadata": {},
   "outputs": [
    {
     "name": "stdout",
     "output_type": "stream",
     "text": [
      "Pregunta: ¿Cuáles son las características principales de la aplicación de gestión del tiempo?\n",
      "\n",
      "Respuesta: Planificación, seguimiento, recordatorios, análisis de productividad, interfaz intuitiva.\n",
      "\n",
      "Pregunta: ¿Está disponible para iOS y Android?\n",
      "\n",
      "Respuesta: Sí, está disponible en ambas plataformas.\n",
      "\n",
      "Pregunta: ¿Ofrecen una prueba gratuita?\n",
      "\n",
      "Respuesta: Depende del servicio específico que consultes.\n",
      "\n",
      "Pregunta: ¿Cómo se pueden compartir tareas con otros usuarios?\n",
      "\n",
      "Respuesta: Usa aplicaciones de gestión de tareas o plataformas colaborativas.\n",
      "\n"
     ]
    }
   ],
   "source": [
    "import openai\n",
    "import os\n",
    "import time\n",
    "\n",
    "client = openai.OpenAI(\n",
    "  api_key=os.environ.get(\"OPENAI_API_KEY\", \"<your OpenAI API key if not set as an env var>\"),\n",
    "  organization='org-XFL9aURnH3HKTTJrFvxJLafF',\n",
    "  project='proj_DfsP9fVRcgidAgtrscIiRPpT',\n",
    ")\n",
    "\n",
    "# Función para obtener respuesta del modelo\n",
    "def obtener_respuesta(pregunta):\n",
    "    response = client.chat.completions.create(\n",
    "        messages=[\n",
    "        {\"role\": \"system\", \"content\":  \"Eres un asistente útil. Responde con no más de 10 palabras.\"}, # <-- Este es el mensaje del sistema que proporciona contexto al modelo\n",
    "        {\"role\": \"user\", \"content\": pregunta}  # <--  Este es el mensaje del usuario para el cual el modelo generará una respuesta\n",
    "        ],\n",
    "    model=\"gpt-4o-mini\",\n",
    "    )\n",
    "    return response.choices[0].message.content\n",
    "\n",
    "preguntas_frecuentes = [\n",
    "    \"¿Cuáles son las características principales de la aplicación de gestión del tiempo?\",\n",
    "    \"¿Está disponible para iOS y Android?\",\n",
    "    \"¿Ofrecen una prueba gratuita?\",\n",
    "    \"¿Cómo se pueden compartir tareas con otros usuarios?\"\n",
    "]\n",
    "\n",
    "# Obtener respuestas para cada pregunta\n",
    "for pregunta in preguntas_frecuentes:\n",
    "    print(f\"Pregunta: {pregunta}\\n\")\n",
    "    respuesta = obtener_respuesta(pregunta)\n",
    "    print(f\"Respuesta: {respuesta}\\n\")\n",
    "    time.sleep(2)"
   ]
  }
 ],
 "metadata": {
  "kernelspec": {
   "display_name": "Python 3",
   "language": "python",
   "name": "python3"
  },
  "language_info": {
   "codemirror_mode": {
    "name": "ipython",
    "version": 3
   },
   "file_extension": ".py",
   "mimetype": "text/x-python",
   "name": "python",
   "nbconvert_exporter": "python",
   "pygments_lexer": "ipython3",
   "version": "3.11.9"
  }
 },
 "nbformat": 4,
 "nbformat_minor": 2
}
